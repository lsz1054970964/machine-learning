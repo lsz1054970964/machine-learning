{
 "cells": [
  {
   "cell_type": "code",
   "execution_count": 1,
   "id": "6dffaa81",
   "metadata": {},
   "outputs": [],
   "source": [
    "import numpy as np\n",
    "import pandas as pd\n",
    "import random\n",
    "from pprint import pprint"
   ]
  },
  {
   "cell_type": "code",
   "execution_count": 3,
   "id": "92000df7",
   "metadata": {},
   "outputs": [],
   "source": [
    "def train_test_split(df, test_size):\n",
    "    \n",
    "    if isinstance(test_size, float):\n",
    "        test_size = round(test_size * len(df))\n",
    "\n",
    "    indices = df.index.tolist()\n",
    "    test_indices = random.sample(population=indices, k=test_size)\n",
    "\n",
    "    test_df = df.loc[test_indices]\n",
    "    train_df = df.drop(test_indices)\n",
    "    \n",
    "    return train_df, test_df"
   ]
  },
  {
   "cell_type": "code",
   "execution_count": 5,
   "id": "e779fceb",
   "metadata": {},
   "outputs": [],
   "source": [
    "def classify_data(data):\n",
    "    \n",
    "    label_column = data[:, -1]\n",
    "    unique_classes, counts_unique_classes = np.unique(label_column, return_counts=True)\n",
    "\n",
    "    index = counts_unique_classes.argmax()\n",
    "    classification = unique_classes[index]\n",
    "    \n",
    "    return classification"
   ]
  },
  {
   "cell_type": "code",
   "execution_count": 6,
   "id": "b5b8d8b6",
   "metadata": {},
   "outputs": [],
   "source": [
    "def get_potential_splits(data):\n",
    "    \n",
    "    potential_splits = {}\n",
    "    _, n_columns = data.shape\n",
    "    for column_index in range(n_columns - 1):\n",
    "        values = data[:, column_index]\n",
    "        unique_values = np.unique(values)\n",
    "        \n",
    "        type_of_feature = FEATURE_TYPES[column_index]\n",
    "        \n",
    "        #feature is real-time\n",
    "        if type_of_feature == \"r\":\n",
    "            potential_splits[column_index] = []\n",
    "            for index in range(len(unique_values)):\n",
    "                if index != 0:\n",
    "                    current_value = unique_values[index]\n",
    "                    previous_value = unique_values[index - 1]\n",
    "                    potential_split = (current_value + previous_value) / 2\n",
    "\n",
    "                    potential_splits[column_index].append(potential_split)\n",
    "        \n",
    "        # feature is nominal\n",
    "        else:\n",
    "            potential_splits[column_index] = unique_values\n",
    "    \n",
    "    return potential_splits\n"
   ]
  },
  {
   "cell_type": "code",
   "execution_count": 7,
   "id": "1ce101c5",
   "metadata": {},
   "outputs": [],
   "source": [
    "def split_data(data, split_column, split_value):\n",
    "    \n",
    "    split_column_values = data[:, split_column]\n",
    "\n",
    "    type_of_feature = FEATURE_TYPES[split_column]\n",
    "    \n",
    "    # feature is real-time\n",
    "    if type_of_feature == \"r\":\n",
    "        data_below = data[split_column_values <= split_value]\n",
    "        data_above = data[split_column_values >  split_value]\n",
    "    \n",
    "    # feature is nominal  \n",
    "    else:\n",
    "        data_below = data[split_column_values == split_value]\n",
    "        data_above = data[split_column_values != split_value]\n",
    "    \n",
    "    return data_below, data_above"
   ]
  },
  {
   "cell_type": "code",
   "execution_count": 8,
   "id": "095e35f6",
   "metadata": {},
   "outputs": [],
   "source": [
    "def gini(data):\n",
    "    \n",
    "    label_column = data[:, -1]\n",
    "    _, counts = np.unique(label_column, return_counts=True)\n",
    "\n",
    "    probabilities = counts / counts.sum()\n",
    "    gini = 1 - sum(probabilities ** 2)\n",
    "     \n",
    "    return gini"
   ]
  },
  {
   "cell_type": "code",
   "execution_count": 9,
   "id": "f19217ff",
   "metadata": {},
   "outputs": [],
   "source": [
    "def information_gain(data_below, data_above):\n",
    "    \n",
    "    n = len(data_below) + len(data_above)\n",
    "    p_data_below = len(data_below) / n\n",
    "    p_data_above = len(data_above) / n\n",
    "\n",
    "    information_gain =  (p_data_below * gini(data_below) \n",
    "                      + p_data_above * gini(data_above))\n",
    "    \n",
    "    return information_gain"
   ]
  },
  {
   "cell_type": "code",
   "execution_count": 10,
   "id": "3831b634",
   "metadata": {},
   "outputs": [],
   "source": [
    "def determine_best_split(data, potential_splits):\n",
    "    \n",
    "    ig = 9999\n",
    "    for column_index in potential_splits:\n",
    "        for value in potential_splits[column_index]:\n",
    "            data_below, data_above = split_data(data, split_column=column_index, split_value=value)\n",
    "            current_ig = information_gain(data_below, data_above)\n",
    "\n",
    "            if current_ig <= ig:\n",
    "                ig = current_ig\n",
    "                best_split_column = column_index\n",
    "                best_split_value = value\n",
    "    \n",
    "    return best_split_column, best_split_value"
   ]
  },
  {
   "cell_type": "code",
   "execution_count": 11,
   "id": "aa16bf99",
   "metadata": {},
   "outputs": [],
   "source": [
    "def decision_tree_algorithm(df, column_name, datatype, current_depth=0, min_samples=2, max_depth=5):\n",
    "    \n",
    "    if current_depth == 0:\n",
    "        global COLUMN_HEADERS, FEATURE_TYPES\n",
    "        COLUMN_HEADERS = column_name\n",
    "        FEATURE_TYPES = datatype\n",
    "        data = df.values\n",
    "    else:\n",
    "        data = df           \n",
    "    \n",
    "    # finish training process\n",
    "    if (len(data) < min_samples) or (current_depth == max_depth):\n",
    "        classification = classify_data(data)\n",
    "        \n",
    "        return classification\n",
    "\n",
    "    \n",
    "    # training process\n",
    "    else:    \n",
    "        current_depth += 1\n",
    "\n",
    "        # helper functions \n",
    "        potential_splits = get_potential_splits(data)\n",
    "        split_column, split_value = determine_best_split(data, potential_splits)\n",
    "        data_below, data_above = split_data(data, split_column, split_value)\n",
    "        \n",
    "        # print nodes\n",
    "        feature_name = COLUMN_HEADERS[split_column]\n",
    "        type_of_feature = FEATURE_TYPES[split_column]\n",
    "        \n",
    "        # feature is real-time\n",
    "        if type_of_feature == \"r\":\n",
    "            node = \"{} <= {}\".format(feature_name, split_value)\n",
    "            \n",
    "        # feature is nominal\n",
    "        else:\n",
    "            node = \"{} = {}\".format(feature_name, split_value)\n",
    "        \n",
    "        # instantiate sub-tree\n",
    "        sub_tree = {node: []}\n",
    "        \n",
    "        # find answers (recursion)\n",
    "        left_leave = decision_tree_algorithm(data_below, _, _, current_depth, min_samples, max_depth)\n",
    "        right_leave = decision_tree_algorithm(data_above, _, _, current_depth, min_samples, max_depth)\n",
    "        \n",
    "        \n",
    "        if left_leave == right_leave:\n",
    "            sub_tree = left_leave\n",
    "        else:\n",
    "            sub_tree[node].append(left_leave)\n",
    "            sub_tree[node].append(right_leave)\n",
    "        \n",
    "        return sub_tree"
   ]
  },
  {
   "cell_type": "code",
   "execution_count": 13,
   "id": "81bffcfb",
   "metadata": {},
   "outputs": [],
   "source": [
    "def classify_example(example, tree):\n",
    "    node = list(tree.keys())[0]\n",
    "    feature_name, comparison_operator, value = node.split(\" \")\n",
    "\n",
    "    # feature is real-time\n",
    "    if comparison_operator == \"<=\": \n",
    "        if example[feature_name] <= float(value):\n",
    "            result = tree[node][0]\n",
    "        else:\n",
    "            result = tree[node][1]\n",
    "    \n",
    "    # feature is nominal\n",
    "    else:\n",
    "        if str(example[feature_name]) == value:\n",
    "            result = tree[node][0]\n",
    "        else:\n",
    "            result = tree[node][1]\n",
    "\n",
    "    if not isinstance(result, dict):\n",
    "        return result\n",
    "    \n",
    "    else:\n",
    "        residual_tree = result\n",
    "        return classify_example(example, residual_tree)"
   ]
  },
  {
   "cell_type": "code",
   "execution_count": 14,
   "id": "d5d39c53",
   "metadata": {},
   "outputs": [],
   "source": [
    "def calculate_accuracy(df, tree):\n",
    "\n",
    "    df[\"classification\"] = df.apply(classify_example, axis=1, args=(tree,))\n",
    "    df[\"classification_correct\"] = df[\"classification\"] == df[\"class\"]\n",
    "    \n",
    "    accuracy = df[\"classification_correct\"].mean()\n",
    "    \n",
    "    return accuracy"
   ]
  },
  {
   "cell_type": "code",
   "execution_count": 20,
   "id": "076c3e15",
   "metadata": {},
   "outputs": [
    {
     "name": "stdout",
     "output_type": "stream",
     "text": [
      "{'petal-width <= 0.8': ['Iris-setosa',\n",
      "                        {'petal-width <= 1.75': [{'petal-length <= 4.95': ['Iris-versicolor',\n",
      "                                                                           'Iris-virginica']},\n",
      "                                                 'Iris-virginica']}]}\n",
      "accuracy: 0.9666666666666667\n"
     ]
    }
   ],
   "source": [
    "col_names_1 = ['sepal-length', 'sepal-width', 'petal-length', 'petal-width', \"class\"]\n",
    "data_1 = pd.read_csv(\"iris.tmls\", skiprows=2, header=None, names=col_names_1)\n",
    "datatype_1 = pd.read_csv(\"iris.tmls\", header=None).iloc[1].tolist()\n",
    "datatype_1 = datatype_1[:-1]\n",
    "\n",
    "train_df_1, test_df_1 = train_test_split(data_1, test_size=0.2)\n",
    "\n",
    "tree_1 = decision_tree_algorithm(train_df_1, col_names_1, datatype_1, max_depth=3)\n",
    "pprint(tree_1)\n",
    "\n",
    "accuracy_1 = calculate_accuracy(test_df_1, tree_1)\n",
    "print(\"accuracy: \" + str(accuracy_1))"
   ]
  },
  {
   "cell_type": "code",
   "execution_count": 22,
   "id": "23279dbc",
   "metadata": {},
   "outputs": [
    {
     "name": "stdout",
     "output_type": "stream",
     "text": [
      "{'color-intensity <= 3.915': [{'proline <= 1002.5': [{'OD280/OD315-of-dilutued-wines <= 3.73': [2.0,\n",
      "                                                                                                1.0]},\n",
      "                                                     1.0]},\n",
      "                              {'flavanoids <= 1.58': [{'hue <= 0.97': [3.0,\n",
      "                                                                       2.0]},\n",
      "                                                      {'proline <= 679.0': [2.0,\n",
      "                                                                            1.0]}]}]}\n",
      "accuracy: 0.9444444444444444\n"
     ]
    }
   ],
   "source": [
    "col_names_2 = [\"alcohol\", \"malic-acid\", \"ash\", \"alcalinity-of-ash\", \"magnesium\", \"total-phenols\", \n",
    "               \"flavanoids\", \"nonflavanoid-phenols\", \"proanthocyanins\", \"color-intensity\", \"hue\", \n",
    "               \"OD280/OD315-of-dilutued-wines\", \"proline\", \"class\"]\n",
    "data_2 = pd.read_csv(\"wine.tmls\", skiprows=2, header=None, names=col_names_2)\n",
    "datatype_2 = pd.read_csv(\"wine.tmls\", header=None).iloc[1]\n",
    "\n",
    "train_df_2, test_df_2 = train_test_split(data_2, test_size=0.2)\n",
    "\n",
    "tree_2 = decision_tree_algorithm(train_df_2, col_names_2, datatype_2, max_depth=3)\n",
    "pprint(tree_2)\n",
    "\n",
    "accuracy_2 = calculate_accuracy(test_df_2, tree_2)\n",
    "print(\"accuracy: \" + str(accuracy_2))"
   ]
  },
  {
   "cell_type": "code",
   "execution_count": 25,
   "id": "b830ec92",
   "metadata": {},
   "outputs": [
    {
     "name": "stdout",
     "output_type": "stream",
     "text": [
      "{'weight <= 122.5': [{'weight <= 83.5': [{'height <= 172.5': [{'weight <= 65.0': [2,\n",
      "                                                                                  4]},\n",
      "                                                              {'weight <= 69.5': [1,\n",
      "                                                                                  2]}]},\n",
      "                                         {'height <= 164.0': [{'weight <= 97.5': [4,\n",
      "                                                                                  5]},\n",
      "                                                              {'height <= 181.5': [4,\n",
      "                                                                                   3]}]}]},\n",
      "                     {'height <= 186.5': [{'weight <= 132.5': [{'height <= 178.5': [5,\n",
      "                                                                                    4]},\n",
      "                                                               5]},\n",
      "                                          {'weight <= 145.5': [4,\n",
      "                                                               {'height <= 196.5': [5,\n",
      "                                                                                    4]}]}]}]}\n",
      "accuracy: 0.71\n"
     ]
    }
   ],
   "source": [
    "col_names_3 = [\"sex\", \"height\", \"weight\", \"class\"]\n",
    "data_3 = pd.read_csv(\"weight.tmls\", skiprows=2, header=None, names=col_names_3)\n",
    "datatype_3 = pd.read_csv(\"weight.tmls\", header=None).iloc[1]\n",
    "\n",
    "train_df_3, test_df_3 = train_test_split(data_3, test_size=0.2)\n",
    "\n",
    "tree_3 = decision_tree_algorithm(train_df_3, col_names_3, datatype_3, max_depth=4)\n",
    "pprint(tree_3)\n",
    "\n",
    "accuracy_3 = calculate_accuracy(test_df_3, tree_3)\n",
    "print(\"accuracy: \" + str(accuracy_3))"
   ]
  },
  {
   "cell_type": "code",
   "execution_count": 35,
   "id": "10231bfb",
   "metadata": {},
   "outputs": [
    {
     "name": "stdout",
     "output_type": "stream",
     "text": [
      "{'Polyuria = Yes': [{'Age <= 69.5': ['Positive',\n",
      "                                     {'weakness = Yes': ['Positive',\n",
      "                                                         'Negative']}]},\n",
      "                    {'Gender = Male': [{'Polydipsia = Yes': ['Positive',\n",
      "                                                             'Negative']},\n",
      "                                       {'Alopecia = Yes': ['Negative',\n",
      "                                                           'Positive']}]}]}\n",
      "accuracy: 0.8942307692307693\n"
     ]
    }
   ],
   "source": [
    "#col_names_3 = [\"buying-price\", \"maintenance-cost\", \"number-of-doors\", \"number-of-persons\",\n",
    "#               \"lug_boot\", \"safety\", \"class\"]\n",
    "#data_3 = pd.read_csv(\"car.tmls\", skiprows=2, header=None, names=col_names_3)\n",
    "#datatype_3 = pd.read_csv(\"car.tmls\", header=None).iloc[1]\n",
    "\n",
    "col_names_3 = [\"Age\", \"Gender\", \"Polyuria\", \"Polydipsia\", \"sudden-weight-loss\", \"weakness\", \n",
    "               \"Polyphagia\", \"Genital-thrush\", \"visual-blurring\", \"Itching\", \"Irritability\",\n",
    "               \"delayed-healing\", \"partial-paresis\", \"muscle-stiffness\", \"Alopecia\", \"Obesity\", \"class\"]\n",
    "data_3 = pd.read_csv(\"diabetes.tmls\", skiprows=2, header=None, names=col_names_3)\n",
    "datatype_3 = pd.read_csv(\"diabetes.tmls\", header=None).iloc[1]\n",
    "\n",
    "train_df_3, test_df_3 = train_test_split(data_3, test_size=0.2)\n",
    "\n",
    "tree_3 = decision_tree_algorithm(train_df_3, col_names_3, datatype_3, max_depth=3)\n",
    "pprint(tree_3)\n",
    "\n",
    "accuracy_3 = calculate_accuracy(test_df_3, tree_3)\n",
    "print(\"accuracy: \" + str(accuracy_3))"
   ]
  },
  {
   "cell_type": "code",
   "execution_count": null,
   "id": "fd9d0937",
   "metadata": {},
   "outputs": [],
   "source": []
  }
 ],
 "metadata": {
  "kernelspec": {
   "display_name": "Python 3",
   "language": "python",
   "name": "python3"
  },
  "language_info": {
   "codemirror_mode": {
    "name": "ipython",
    "version": 3
   },
   "file_extension": ".py",
   "mimetype": "text/x-python",
   "name": "python",
   "nbconvert_exporter": "python",
   "pygments_lexer": "ipython3",
   "version": "3.8.8"
  }
 },
 "nbformat": 4,
 "nbformat_minor": 5
}
