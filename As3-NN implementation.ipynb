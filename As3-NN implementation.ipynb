{
 "cells": [
  {
   "cell_type": "markdown",
   "id": "e1d533cd",
   "metadata": {},
   "source": [
    "# Creation of an artificial neural network from scratch\n",
    "\n",
    "This notebook currently contains a very basic implementation of an artificial neural network from scratch. \n",
    "The first cell contains\n",
    "\n",
    "1. A definition of several activation functions and their derivatives.\n",
    "2. A definition of a loss function and its derivative.\n",
    "3. A definition of the forward propagation through a single layer\n",
    "4. A definition of a backward propagation through a single layer\n",
    "\n",
    "\n",
    "Your task is to do the following extentions to the code in this cell:\n",
    "\n",
    "1. Add support for an additional activation function.\n",
    "2. Add the use of a bias in the forward- and backward-propagation. \n",
    "As it is implemented now, all solutions have to pass the origin."
   ]
  },
  {
   "cell_type": "code",
   "execution_count": 1,
   "id": "32b521f2",
   "metadata": {},
   "outputs": [],
   "source": [
    "import numpy as np\n",
    "import matplotlib.pyplot as plt\n",
    "\n",
    "np.random.seed(12345) # Set initial random seed (good to always do)\n",
    "\n",
    "\n",
    "\n",
    "# Activation functions, the parameter f decides which activation function that is used.\n",
    "# TODO: Add at least one new activation function and its derivative.\n",
    "def activate(a, f=\"none\"):\n",
    "    \n",
    "    if f==\"none\":\n",
    "        y = a\n",
    "    elif f == \"relu\":\n",
    "        y = np.maximum(a,0)\n",
    "    elif f == \"sigmoid\":\n",
    "        y = 1/(1 + np.exp (-a))\n",
    "    return y\n",
    "    \n",
    "\n",
    "    \n",
    "# Derivatives of activation functions\n",
    "def d_activate(a, f=\"none\"):\n",
    "    if f==\"none\":\n",
    "        dy = np.ones_like(a)\n",
    "    elif f == \"relu\":\n",
    "        dy = 1 * (a > 0)\n",
    "    elif f == \"sigmoid\":\n",
    "        dy = (1/(1 + np.exp (-a))) * (1 - (1/(1 + np.exp (-a))))\n",
    "    return dy\n",
    "\n",
    "\n",
    "# This is the loss for a set of predictions y_hat compared to a set of real valyes y\n",
    "def MSE_loss(y_hat, y):\n",
    "    return 1/2 * np.mean((y_hat-y)**2)\n",
    "\n",
    "\n",
    "# This is the derivative of the loss with respect to the predicted value y_hat\n",
    "def d_MSE_loss(y_hat, y):\n",
    "    m = y.shape[0]\n",
    "    return 1./m * (y_hat-y)\n",
    "\n",
    "\n",
    "# Propagate a signal through a layer in a neueral network.\n",
    "# TODO: Add support for the use of a bias as well\n",
    "def propagate_forward(w, b, a, f=\"none\"):\n",
    "    z = activate(np.dot(a,w)+b, f)\n",
    "    return z\n",
    "    \n",
    "\n",
    "# Calculate the backward gradients that are passed throught the layer in the backward pass.\n",
    "# Returns both the derivative of the loss in respect to the weights w and the input signal a.\n",
    "# TODO: Add support for a bias as well\n",
    "def propagate_backward(w, b, a, dl_dz, f=\"none\"):\n",
    "    \n",
    "    dl = d_activate(np.dot(a,w)+b, f) * dl_dz\n",
    "    dw = np.dot(a.T, dl)\n",
    "    da = np.dot(dl, w.T)\n",
    "    \n",
    "    return dw, da\n",
    "\n"
   ]
  },
  {
   "cell_type": "markdown",
   "id": "73645779",
   "metadata": {},
   "source": [
    "## An implementation of a neural network\n",
    "\n",
    "Below is an implementation of a MLP neural network. This implementation is still lacking several details that are needed for the network to be robust and function well. Your task is to improve it with the following:\n",
    "\n",
    "1. Add a bias to the activation functions that are fine tuned during training. \n",
    "2. Add a function that trains the network using minibatches (the network only trains on a few samples at a time) \n",
    "3. Optional: Make use of an validation set in the training function. The model should hence stop training when the loss starts to increase for the validation set.\n"
   ]
  },
  {
   "cell_type": "code",
   "execution_count": 43,
   "id": "c550aa37",
   "metadata": {},
   "outputs": [],
   "source": [
    "from sklearn.model_selection import train_test_split\n",
    "\n",
    "# A class for a neural network\n",
    "class NeuralNet(object):\n",
    "    \n",
    "    # Setup all parameters and activation functions.\n",
    "    # TODO: Add support for a bias for each neuron\n",
    "    def __init__ (self, input_dim, output_dim, neurons, function = \"relu\"):\n",
    "        \n",
    "        self.ws = [np.random.normal(0,2,(n,m)) for n,m in\n",
    "                   zip([input_dim] + neurons, neurons + [output_dim])]\n",
    "        self.bs = np.random.normal(0,2,len(neurons)+1)\n",
    "        self.activations = [function] * len(neurons) + [\"none\"]\n",
    "    \n",
    "    \n",
    "    # Predict the input throught the network and calculate the output.\n",
    "    # TODO: Add support for a bias for each neuron\n",
    "    def forward(self, x):\n",
    "        for w,b,f in zip(self.ws, self.bs, self.activations):\n",
    "            x = propagate_forward(w,b,x,f)\n",
    "        return x\n",
    "    \n",
    "    \n",
    "    # Adjust the weights in the network to better fit the desired output (y), given the input (x).\n",
    "    # alpha is the learning learning.\n",
    "    # TODO: Add support for a bias for each neuron and make sure these are learnt as well.\n",
    "    def adjust_weights(self, x, y, alpha=1e-4):\n",
    "                \n",
    "        a = x\n",
    "        al = []\n",
    "        \n",
    "        for w,b,f in zip(self.ws, self.bs, self.activations):\n",
    "            al.append(a)\n",
    "            a = propagate_forward(w,b,a,f)\n",
    "           \n",
    "        \n",
    "        loss = MSE_loss(a,y)\n",
    "        da = d_MSE_loss(a,y)\n",
    "        \n",
    "        for w,b,f,x in reversed(list(zip(self.ws, self.bs, self.activations, al))):\n",
    "\n",
    "            dw, da = propagate_backward(w,b,x,da,f)\n",
    "            w -= alpha * dw\n",
    "            b -= alpha * da\n",
    "                        \n",
    "        return loss\n",
    "    \n",
    "    \n",
    "    # A function for the training of the network.\n",
    "    # TODO: Add a training loop where the weights and biases of the network is learnt over several epochs.\n",
    "    # TODO: Add support for mini batches. That is, in each epoch the data should be split into several\n",
    "    #       smaller subsets and the model should be trained on each of these subsets one at a time.\n",
    "    # TODO: Optionally split the training data into training data and validation data.\n",
    "    #       The validation data should be used to stop the training when the model stops to generalise and\n",
    "    #       starts to overfit.\n",
    "    def train_net(self, x, y, batch_size=64, epochs=100):\n",
    "        loss = []\n",
    "        x_train, x_test, y_train, y_test = train_test_split(x, y, test_size=0.2, random_state=42)\n",
    "        n = x.shape[0]/batch_size\n",
    "        \n",
    "        for epoch in range(epochs):       \n",
    "            for batch in range(batch_size):\n",
    "                batch_train_x = train_x[n*batch : (n+1)*batch]\n",
    "                batch_train_y = train_y[n*batch : (n+1)*batch]                \n",
    "                adjust_weights(batch_train_x,batch_train_y)\n",
    "            \n",
    "            epoch_loss = adjust_weights(test_x,test_y)\n",
    "            loss.append(epoch_loss)\n",
    "            if epoch_loss > min(loss):\n",
    "                break\n",
    "\n"
   ]
  },
  {
   "cell_type": "markdown",
   "id": "fdfbb2e0",
   "metadata": {},
   "source": [
    "## Main programs\n",
    "\n",
    "This cell should contain your different programs. In this cell you should present:\n",
    "\n",
    "1. At least 3 programs where the neural network is applied to 3 different datasets.\n",
    "2. You should also have at least 2 programs where you fine tune 2 hyper-parameters."
   ]
  },
  {
   "cell_type": "code",
   "execution_count": 7,
   "id": "0193eb8e",
   "metadata": {
    "scrolled": true
   },
   "outputs": [
    {
     "data": {
      "image/png": "[encoded data removed]",
      "text/plain": [
       "<Figure size 432x288 with 1 Axes>"
      ]
     },
     "metadata": {
      "needs_background": "light"
     },
     "output_type": "display_data"
    }
   ],
   "source": [
    "# A simple example program\n",
    "\n",
    "def main1():\n",
    "    np.random.seed(1234) # Set initial random seed (good to always do)\n",
    "    n = 1000\n",
    "    d = 4\n",
    "\n",
    "    k = np.random.randint(0,10,(d,1))\n",
    "    x = np.random.normal(0,1,(n,d))\n",
    "    y = np.dot(x,k) + 0.1 + np.random.normal(0,0.01,(n,1))\n",
    "    \n",
    "                         \n",
    "    nn = NeuralNet(d, 1, [18, 12])\n",
    "    \n",
    "    plt.plot([nn.adjust_weights(x, y) for _ in range(1000)])\n",
    "    plt.title(\"Loss\")\n",
    "    plt.show()\n",
    "\n",
    "    \n",
    "\n",
    "main1()"
   ]
  },
  {
   "cell_type": "code",
   "execution_count": 30,
   "id": "96734459",
   "metadata": {
    "scrolled": true
   },
   "outputs": [
    {
     "data": {
      "image/png": "[encoded data removed]",
      "text/plain": [
       "<Figure size 432x288 with 1 Axes>"
      ]
     },
     "metadata": {
      "needs_background": "light"
     },
     "output_type": "display_data"
    }
   ],
   "source": [
    "from sklearn.datasets import load_iris\n",
    "\n",
    "def dataset_1():\n",
    "    np.random.seed(1234)\n",
    "    \n",
    "    iris = load_iris()\n",
    "    x_1, y_1 = iris.data, iris.target\n",
    "    y_1 =np.reshape(y_1, [150,1])\n",
    "    d = len(x_1[0])\n",
    "    \n",
    "    nn_1 = NeuralNet(d, 1, [18, 12])\n",
    "    plt.plot([nn_1.adjust_weights(x_1, y_1) for _ in range(1000)])\n",
    "    plt.title(\"Loss\")\n",
    "    plt.show()\n",
    "\n",
    "    \n",
    "\n",
    "dataset_1()\n"
   ]
  },
  {
   "cell_type": "code",
   "execution_count": 39,
   "id": "4947ab62",
   "metadata": {},
   "outputs": [
    {
     "data": {
      "image/png": "[encoded data removed]",
      "text/plain": [
       "<Figure size 432x288 with 1 Axes>"
      ]
     },
     "metadata": {
      "needs_background": "light"
     },
     "output_type": "display_data"
    }
   ],
   "source": [
    "from sklearn.datasets import load_wine\n",
    "\n",
    "def dataset_2():\n",
    "    np.random.seed(1234)\n",
    "    \n",
    "    wine = load_wine()\n",
    "    x_2, y_2 = wine.data, wine.target\n",
    "    d = len(x_2[0])\n",
    "    n = x_2.shape[0]\n",
    "    y_2 =np.reshape(y_2, [n,1])\n",
    "    \n",
    "    nn_2 = NeuralNet(d, 1, [18, 12])\n",
    "    plt.plot([nn_2.adjust_weights(x_2, y_2) for _ in range(10000)])\n",
    "    plt.title(\"Loss\")\n",
    "    plt.show()\n",
    "\n",
    "    \n",
    "\n",
    "dataset_2()"
   ]
  },
  {
   "cell_type": "code",
   "execution_count": 41,
   "id": "d30938ce",
   "metadata": {},
   "outputs": [
    {
     "data": {
      "image/png": "[encoded data removed]",
      "text/plain": [
       "<Figure size 432x288 with 1 Axes>"
      ]
     },
     "metadata": {
      "needs_background": "light"
     },
     "output_type": "display_data"
    }
   ],
   "source": [
    "from sklearn.datasets import load_boston\n",
    "\n",
    "def dataset_3():\n",
    "    np.random.seed(1234)\n",
    "    \n",
    "    boston = load_boston()\n",
    "    x_3, y_3 = boston.data, boston.target\n",
    "    d = len(x_3[0])\n",
    "    n = x_3.shape[0]\n",
    "    y_3 =np.reshape(y_3, [n,1])\n",
    "    \n",
    "    nn_3 = NeuralNet(d, 1, [18, 12])\n",
    "    plt.plot([nn_3.adjust_weights(x_3, y_3) for _ in range(10000)])\n",
    "    plt.title(\"Loss\")\n",
    "    plt.show()\n",
    "\n",
    "    \n",
    "\n",
    "dataset_3()"
   ]
  },
  {
   "cell_type": "code",
   "execution_count": 42,
   "id": "51dd4a30",
   "metadata": {},
   "outputs": [
    {
     "data": {
      "image/png": "[encoded data removed]",
      "text/plain": [
       "<Figure size 432x288 with 1 Axes>"
      ]
     },
     "metadata": {
      "needs_background": "light"
     },
     "output_type": "display_data"
    }
   ],
   "source": [
    "from sklearn.datasets import load_iris\n",
    "\n",
    "def dataset_1():\n",
    "    np.random.seed(1234)\n",
    "    \n",
    "    iris = load_iris()\n",
    "    x_1, y_1 = iris.data, iris.target\n",
    "    y_1 =np.reshape(y_1, [150,1])\n",
    "    d = len(x_1[0])\n",
    "    \n",
    "    nn_1 = NeuralNet(d, 1, [18, 12])\n",
    "    plt.plot([nn_1.adjust_weights(x_1, y_1, 2e-4) for _ in range(1000)])\n",
    "    plt.title(\"Loss\")\n",
    "    plt.show()\n",
    "\n",
    "    \n",
    "\n",
    "dataset_1()"
   ]
  },
  {
   "cell_type": "code",
   "execution_count": 46,
   "id": "27577b90",
   "metadata": {},
   "outputs": [
    {
     "data": {
      "image/png": "[encoded data removed]",
      "text/plain": [
       "<Figure size 432x288 with 1 Axes>"
      ]
     },
     "metadata": {
      "needs_background": "light"
     },
     "output_type": "display_data"
    }
   ],
   "source": [
    "from sklearn.datasets import load_iris\n",
    "\n",
    "def dataset_1():\n",
    "    np.random.seed(1234)\n",
    "    \n",
    "    iris = load_iris()\n",
    "    x_1, y_1 = iris.data, iris.target\n",
    "    y_1 =np.reshape(y_1, [150,1])\n",
    "    d = len(x_1[0])\n",
    "    \n",
    "    nn_1 = NeuralNet(d, 1, [18, 12], \"sigmoid\")\n",
    "    plt.plot([nn_1.adjust_weights(x_1, y_1, 1e-4) for _ in range(10000)])\n",
    "    plt.title(\"Loss\")\n",
    "    plt.show()\n",
    "\n",
    "    \n",
    "\n",
    "dataset_1()"
   ]
  },
  {
   "cell_type": "code",
   "execution_count": null,
   "id": "014f60b5",
   "metadata": {},
   "outputs": [],
   "source": []
  }
 ],
 "metadata": {
  "kernelspec": {
   "display_name": "Python 3",
   "language": "python",
   "name": "python3"
  },
  "language_info": {
   "codemirror_mode": {
    "name": "ipython",
    "version": 3
   },
   "file_extension": ".py",
   "mimetype": "text/x-python",
   "name": "python",
   "nbconvert_exporter": "python",
   "pygments_lexer": "ipython3",
   "version": "3.8.8"
  }
 },
 "nbformat": 4,
 "nbformat_minor": 5
}
