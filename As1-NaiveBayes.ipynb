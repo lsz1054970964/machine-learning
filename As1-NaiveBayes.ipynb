{
 "cells": [
  {
   "cell_type": "code",
   "execution_count": 3,
   "id": "dd1da961",
   "metadata": {},
   "outputs": [],
   "source": [
    "import numpy as np\n",
    "import matplotlib.pyplot as plt\n",
    "import pandas as pd\n",
    "from random import randrange"
   ]
  },
  {
   "cell_type": "code",
   "execution_count": 5,
   "id": "57e666fd",
   "metadata": {},
   "outputs": [],
   "source": [
    "#function to calculate prior\n",
    "def prior_function(df, Y):\n",
    "    classes = sorted(list(df[Y].unique()))\n",
    "    prior = []\n",
    "    for i in classes:\n",
    "        prior.append(len(df[df[Y] == i])/len(df))\n",
    "    return prior"
   ]
  },
  {
   "cell_type": "code",
   "execution_count": 6,
   "id": "ec758f50",
   "metadata": {},
   "outputs": [],
   "source": [
    "#function to calculate likelihood\n",
    "def likelihood_function(df, feat_name, feat_value, Y, label):\n",
    "    feat = list(df.columns)\n",
    "    df = df[df[Y] == label]\n",
    "    \n",
    "    #mean\n",
    "    mean = df[feat_name].mean()\n",
    "    #variance\n",
    "    std = df[feat_name].std()\n",
    "    \n",
    "    #based on Optimality of the Linear Classifier equation\n",
    "    #Gaussian density function\n",
    "    likelihood = (1/(np.sqrt(2*np.pi)*std))*np.exp(-((feat_value-mean)**2/(2*std**2)))\n",
    "    return likelihood"
   ]
  },
  {
   "cell_type": "code",
   "execution_count": 54,
   "id": "fcf5d78f",
   "metadata": {},
   "outputs": [],
   "source": [
    "#calculate the prediction values and posteriori probability based on naive bayes algorithm\n",
    "#the motivation of the method used in this assignment\n",
    "#the data are continuous, so Gaussian naive bayes is selected\n",
    "#based on the equation, prior and likelihood are calculated, and normalizing constant is ignored\n",
    "#for prior, conditional values for different features are calculated\n",
    "#for likelihood, mean and variance are calculated for each feature columns and Gaussian density function has be applied\n",
    "#maximize posterior probabilities as prediction value\n",
    "def naive_bayes_function(df, X, Y):\n",
    "    \n",
    "    #obtain feature names\n",
    "    features = list(df.columns)[:-1]\n",
    "    \n",
    "    #calculate prior\n",
    "    prior = prior_function(df, Y)\n",
    "    \n",
    "    #store the prediction number\n",
    "    Y_pred=[]\n",
    "    prob=[]\n",
    "    \n",
    "    for x in X:\n",
    "        labels = sorted(list(df[Y].unique()))\n",
    "        likelihood=[1]*len(labels)\n",
    "        \n",
    "        #for every class\n",
    "        for i in range(len(labels)):\n",
    "            \n",
    "            #for every feature\n",
    "            for j in range(len(features)):\n",
    "                \n",
    "                #multiply likelihood for all the features\n",
    "                likelihood[i] *= likelihood_function(df, features[j], x[j], Y, labels[i])\n",
    "        \n",
    "        #calculate posterior\n",
    "        post_prob = [1]*len(labels)\n",
    "        for i in range(len(labels)):\n",
    "            post_prob[i] = likelihood[i] * prior [i]\n",
    "            \n",
    "        #store the maximum of posteriori probability as prediction value\n",
    "        \n",
    "            \n",
    "        Y_pred.append(np.log(post_prob[0]/post_prob[1]))\n",
    "    \n",
    "    return np.array(Y_pred)"
   ]
  },
  {
   "cell_type": "code",
   "execution_count": 55,
   "id": "f7dde687",
   "metadata": {},
   "outputs": [],
   "source": [
    "#split the test and train sets for one fold\n",
    "def cv_split(dataset, numfolds):\n",
    "    datasplit = list()\n",
    "    datacopy = list(dataset)\n",
    "    foldsize = int(len(dataset)/numfolds)\n",
    "    for i in range(numfolds):\n",
    "        fold = list()\n",
    "        while len(fold) < foldsize:\n",
    "            index = randrange(len(datacopy))\n",
    "            fold.append(datacopy.pop(index))\n",
    "        datasplit.append(fold)\n",
    "    return datasplit"
   ]
  },
  {
   "cell_type": "code",
   "execution_count": 56,
   "id": "757087e4",
   "metadata": {},
   "outputs": [],
   "source": [
    "def k_fold_cv(dataset, numfolds = 10):\n",
    "    \n",
    "    #store the train and test sets for one fold\n",
    "    folds = cv_split(dataset, numfolds)\n",
    "    \n",
    "    #store the average value of prediction for 10 folds\n",
    "    Y_pred = [0]*10\n",
    "    \n",
    "    #loop for folds for 10 times\n",
    "    for fold in folds:\n",
    "        \n",
    "        #store the train set data\n",
    "        #remove the test set data from train set data\n",
    "        trainset = list(folds)\n",
    "        trainset.remove(fold)\n",
    "        trainset = sum(trainset, [])\n",
    "        testset = list()\n",
    "        \n",
    "        #store the test set data\n",
    "        for row in fold:\n",
    "            rowcopy = list(row)\n",
    "            testset.append(rowcopy)   \n",
    "        \n",
    "        #change the type of data for further input into the algorithm\n",
    "        trainset = pd.DataFrame(trainset)\n",
    "        trainset.columns =['sepal length', 'sepal width', 'petal length', 'petal width', 'class']\n",
    "        trainset['sepal length'] = pd.to_numeric(trainset['sepal length'],errors='coerce')\n",
    "        trainset['sepal width'] = pd.to_numeric(trainset['sepal width'],errors='coerce')\n",
    "        trainset['petal length'] = pd.to_numeric(trainset['petal length'],errors='coerce')\n",
    "        trainset['petal width'] = pd.to_numeric(trainset['petal width'],errors='coerce')\n",
    "        trainset['class'] = pd.to_numeric(trainset['class'],errors='coerce')\n",
    "        testset = pd.DataFrame(testset)\n",
    "        testset.columns =['sepal length', 'sepal width', 'petal length', 'petal width', 'class']\n",
    "        testset['sepal length'] = pd.to_numeric(testset['sepal length'],errors='coerce')\n",
    "        testset['sepal width'] = pd.to_numeric(testset['sepal width'],errors='coerce')\n",
    "        testset['petal length'] = pd.to_numeric(testset['petal length'],errors='coerce')\n",
    "        testset['petal width'] = pd.to_numeric(testset['petal width'],errors='coerce')\n",
    "        testset['class'] = pd.to_numeric(testset['class'],errors='coerce')\n",
    "        \n",
    "        #store test data for different folds\n",
    "        X_test = testset.iloc[:, :-1].values\n",
    "        Y_test = testset.iloc[:, -1].values\n",
    "        \n",
    "        #apply naive bayes algorithm and store the prediction value\n",
    "        y_pred = naive_bayes_function(trainset, X = X_test, Y = \"class\")\n",
    "\n",
    "        #sum up all prediction values for each loop\n",
    "        for i in range(10):\n",
    "            Y_pred[i] += y_pred[i]\n",
    "        \n",
    "        #calculate the average of sum of all prediction values for each loop\n",
    "        for j in range(10):\n",
    "            Y_pred[j] /=10\n",
    "            \n",
    "    return Y_test, Y_pred\n",
    "            "
   ]
  },
  {
   "cell_type": "code",
   "execution_count": 65,
   "id": "e0e32e3c",
   "metadata": {},
   "outputs": [],
   "source": [
    "#draw the roc curve\n",
    "def roc_curve(Y_test, Y_pred):\n",
    "    \n",
    "    #store the points used to plot roc curve\n",
    "    roc_point = []\n",
    "    \n",
    "    #store different thresholds for roc\n",
    "    min_value = np.min(Y_pred)-0.1\n",
    "    max_value = np.max(Y_pred)+0.1\n",
    "    thresholds = np.linspace(min_value, max_value, 20)\n",
    "    \n",
    "    for threshold in thresholds:\n",
    "        \n",
    "        #true positive value\n",
    "        tp=0\n",
    "        #false positive value\n",
    "        fp=0\n",
    "        #false nagetive value\n",
    "        fn=0\n",
    "        #true negative value\n",
    "        tn=0\n",
    "        \n",
    "        #loop for different folds 10 times \n",
    "        for i in range(10):\n",
    "            if Y_pred[i] >= threshold:\n",
    "                pred = 1\n",
    "            else:\n",
    "                pred = 0\n",
    "                \n",
    "            #change the values repestively for different scenarios\n",
    "            if(Y_test[i] == 1 and pred == 1):\n",
    "                tp += 1\n",
    "            elif(Y_test[i] == 1 and pred == 0):\n",
    "                fn += 1\n",
    "            elif(Y_test[i] == 0 and pred == 1):\n",
    "                fp += 1\n",
    "            elif(Y_test[i] == 0 and pred == 0):\n",
    "                tn += 1\n",
    "        \n",
    "        #true positive rate\n",
    "        tpr = tp / (tp + fn)\n",
    "        #false positive rate\n",
    "        fpr = fp/ (fp + tn)\n",
    "        \n",
    "        #store matched tpr and fpr values\n",
    "        roc_point.append([tpr, fpr])\n",
    "    \n",
    "    #convert matched tpr and fpr values into points\n",
    "    pivot = pd.DataFrame(roc_point, columns = [\"x\", \"y\"])\n",
    "    pivot[\"threshold\"] = thresholds\n",
    "    \n",
    "    #plot the roc graph\n",
    "    plt.plot(pivot.x, pivot.y)\n",
    "    #limit the axis between 0 and 1\n",
    "    plt.plot([0,1])\n",
    "\n",
    "    #calculate auc\n",
    "    auc = round(abs(np.trapz(pivot.y, pivot.x)), 4)\n",
    "    print(\"AUC: \" + str(auc))\n",
    "\n"
   ]
  },
  {
   "cell_type": "code",
   "execution_count": 66,
   "id": "eb0829f3",
   "metadata": {},
   "outputs": [
    {
     "name": "stdout",
     "output_type": "stream",
     "text": [
      "Iris-setosa and Iris-virginica\n",
      "\n",
      "AUC: 1.0\n"
     ]
    },
    {
     "data": {
      "image/png": "[encoded data removed]",
      "text/plain": [
       "<Figure size 432x288 with 1 Axes>"
      ]
     },
     "metadata": {
      "needs_background": "light"
     },
     "output_type": "display_data"
    }
   ],
   "source": [
    "#Iris-setosa and Iris-virginica\n",
    "print(\"Iris-setosa and Iris-virginica\\n\")\n",
    "#read and load the data file\n",
    "iris = pd.read_csv('iris.tmls')\n",
    "\n",
    "#remove the first example line\n",
    "iris = iris.iloc[1: , :]\n",
    "\n",
    "#remove the Iris-virginica class\n",
    "iris = iris.drop(iris.index[100:150])\n",
    "\n",
    "#change the class variable from string to integer\n",
    "iris[\"class\"].replace({\"Iris-setosa\": 0, \"Iris-versicolor\": 1}, inplace=True)\n",
    "\n",
    "iris = iris.values.tolist()\n",
    "\n",
    "Y_test, Y_pred = k_fold_cv(iris, numfolds = 10)\n",
    "roc_curve(Y_test, Y_pred)"
   ]
  },
  {
   "cell_type": "code",
   "execution_count": 67,
   "id": "f7c6886f",
   "metadata": {},
   "outputs": [
    {
     "name": "stdout",
     "output_type": "stream",
     "text": [
      "Iris-versicolor and Iris-virginica\n",
      "\n",
      "AUC: 1.0\n"
     ]
    },
    {
     "data": {
      "image/png": "[encoded data removed]",
      "text/plain": [
       "<Figure size 432x288 with 1 Axes>"
      ]
     },
     "metadata": {
      "needs_background": "light"
     },
     "output_type": "display_data"
    }
   ],
   "source": [
    "#Iris-versicolor and Iris-virginica\n",
    "print(\"Iris-versicolor and Iris-virginica\\n\")\n",
    "\n",
    "#read and load the data file\n",
    "iris = pd.read_csv('iris.tmls')\n",
    "\n",
    "#remove the first example line\n",
    "iris = iris.iloc[1: , :]\n",
    "\n",
    "#remove the Iris-setosa class\n",
    "iris = iris.drop(iris.index[0:50])\n",
    "#change the class variable from string to integer\n",
    "iris[\"class\"].replace({\"Iris-versicolor\": 0, \"Iris-virginica\": 1}, inplace=True)\n",
    "\n",
    "iris = iris.values.tolist()\n",
    "\n",
    "Y_test, Y_pred = k_fold_cv(iris, numfolds = 10)\n",
    "roc_curve(Y_test, Y_pred)"
   ]
  },
  {
   "cell_type": "code",
   "execution_count": 64,
   "id": "62c2d92b",
   "metadata": {},
   "outputs": [
    {
     "name": "stdout",
     "output_type": "stream",
     "text": [
      "Iris-setosa and Iris-virginica\n",
      "\n",
      "AUC: 1.0\n"
     ]
    },
    {
     "data": {
      "image/png": "[encoded data removed]",
      "text/plain": [
       "<Figure size 432x288 with 1 Axes>"
      ]
     },
     "metadata": {
      "needs_background": "light"
     },
     "output_type": "display_data"
    }
   ],
   "source": [
    "#Iris-setosa and Iris-virginica\n",
    "print(\"Iris-setosa and Iris-virginica\\n\")\n",
    "\n",
    "#read and load the data file\n",
    "iris = pd.read_csv('iris.tmls')\n",
    "\n",
    "#remove the first example line\n",
    "iris = iris.iloc[1: , :]\n",
    "\n",
    "#remove the Iris-versicolor class\n",
    "iris = iris.drop(iris.index[50:100])\n",
    "#change the class variable from string to integer\n",
    "iris[\"class\"].replace({\"Iris-setosa\": 0, \"Iris-virginica\": 1}, inplace=True)\n",
    "\n",
    "iris = iris.values.tolist()\n",
    "\n",
    "Y_test, Y_pred = k_fold_cv(iris, numfolds = 10)\n",
    "roc_curve(Y_test, Y_pred)\n",
    "\n",
    "\n"
   ]
  },
  {
   "cell_type": "code",
   "execution_count": null,
   "id": "fecdaac7",
   "metadata": {},
   "outputs": [],
   "source": []
  }
 ],
 "metadata": {
  "kernelspec": {
   "display_name": "Python 3",
   "language": "python",
   "name": "python3"
  },
  "language_info": {
   "codemirror_mode": {
    "name": "ipython",
    "version": 3
   },
   "file_extension": ".py",
   "mimetype": "text/x-python",
   "name": "python",
   "nbconvert_exporter": "python",
   "pygments_lexer": "ipython3",
   "version": "3.8.8"
  }
 },
 "nbformat": 4,
 "nbformat_minor": 5
}
